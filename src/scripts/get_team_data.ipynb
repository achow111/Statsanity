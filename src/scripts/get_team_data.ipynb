{
 "cells": [
  {
   "cell_type": "code",
   "execution_count": 11,
   "metadata": {},
   "outputs": [],
   "source": [
    "# Import the constant list from nba_teams.py\n",
    "from nba_teams import nba_teams"
   ]
  },
  {
   "cell_type": "code",
   "execution_count": 18,
   "metadata": {},
   "outputs": [],
   "source": [
    "url = \"https://www.nba.com/stats/teams/advanced\""
   ]
  },
  {
   "cell_type": "code",
   "execution_count": 13,
   "metadata": {},
   "outputs": [],
   "source": [
    "from create_folder import create_folder"
   ]
  },
  {
   "cell_type": "code",
   "execution_count": 15,
   "metadata": {},
   "outputs": [],
   "source": [
    "# Create a new folder to holder team data if it does not already exist\n",
    "folder_name = \"team_data\"\n",
    "create_folder(folder_name)"
   ]
  },
  {
   "cell_type": "code",
   "execution_count": 67,
   "metadata": {},
   "outputs": [],
   "source": [
    "from selenium import webdriver"
   ]
  },
  {
   "cell_type": "code",
   "execution_count": 68,
   "metadata": {},
   "outputs": [],
   "source": [
    "from selenium.webdriver.chrome.service import Service\n",
    "\n",
    "# Setup the driver from chrome browser\n",
    "service = Service(executable_path='/Users/aaronchow/Desktop/chromedriver-mac-arm64/chromedriver')\n",
    "options = webdriver.ChromeOptions()\n",
    "driver = webdriver.Chrome(service=service, options=options)\n"
   ]
  },
  {
   "cell_type": "code",
   "execution_count": 69,
   "metadata": {},
   "outputs": [],
   "source": [
    "#Load the html from the page\n",
    "driver.get(url)\n",
    "html = driver.page_source"
   ]
  },
  {
   "cell_type": "code",
   "execution_count": 70,
   "metadata": {},
   "outputs": [],
   "source": [
    "# Save the data in the roster_data folder as an html file\n",
    "with open(f\"{folder_name}/team_ratings.html\", \"w+\") as f:\n",
    "    f.write(html)"
   ]
  },
  {
   "cell_type": "code",
   "execution_count": 71,
   "metadata": {},
   "outputs": [],
   "source": [
    "from bs4 import BeautifulSoup"
   ]
  },
  {
   "cell_type": "code",
   "execution_count": 72,
   "metadata": {},
   "outputs": [],
   "source": [
    "# Open and read html file from the file path\n",
    "with open(f\"{folder_name}/team_ratings.html\") as f:\n",
    "    page = f.read()"
   ]
  },
  {
   "cell_type": "code",
   "execution_count": 73,
   "metadata": {},
   "outputs": [],
   "source": [
    "# Create a beautiful soup html parser object\n",
    "soup = BeautifulSoup(page, \"html.parser\")"
   ]
  },
  {
   "cell_type": "code",
   "execution_count": 81,
   "metadata": {},
   "outputs": [],
   "source": [
    "# Find the table with the metrics\n",
    "table = soup.find(\"table\", class_=\"Crom_table__p1iZz\") "
   ]
  },
  {
   "cell_type": "code",
   "execution_count": 82,
   "metadata": {},
   "outputs": [],
   "source": [
    "# Remove useless hidden columns in the table\n",
    "useless_rows = soup.find_all('th', {'hidden': True})\n",
    "\n",
    "for row in useless_rows:\n",
    "    row.decompose()"
   ]
  },
  {
   "cell_type": "code",
   "execution_count": 83,
   "metadata": {},
   "outputs": [],
   "source": [
    "from io import StringIO"
   ]
  },
  {
   "cell_type": "code",
   "execution_count": 84,
   "metadata": {},
   "outputs": [],
   "source": [
    "import pandas as pd"
   ]
  },
  {
   "cell_type": "code",
   "execution_count": 85,
   "metadata": {},
   "outputs": [],
   "source": [
    "# Convert game log html table into a dataframe\n",
    "team_stats = pd.read_html(StringIO(str(table)))[0]"
   ]
  },
  {
   "cell_type": "code",
   "execution_count": 86,
   "metadata": {},
   "outputs": [
    {
     "data": {
      "text/html": [
       "<div>\n",
       "<style scoped>\n",
       "    .dataframe tbody tr th:only-of-type {\n",
       "        vertical-align: middle;\n",
       "    }\n",
       "\n",
       "    .dataframe tbody tr th {\n",
       "        vertical-align: top;\n",
       "    }\n",
       "\n",
       "    .dataframe thead th {\n",
       "        text-align: right;\n",
       "    }\n",
       "</style>\n",
       "<table border=\"1\" class=\"dataframe\">\n",
       "  <thead>\n",
       "    <tr style=\"text-align: right;\">\n",
       "      <th></th>\n",
       "      <th>Unnamed: 0</th>\n",
       "      <th>TEAM</th>\n",
       "      <th>GP</th>\n",
       "      <th>W</th>\n",
       "      <th>L</th>\n",
       "      <th>MIN</th>\n",
       "      <th>OffRtg</th>\n",
       "      <th>DefRtg</th>\n",
       "      <th>NetRtg</th>\n",
       "      <th>AST%</th>\n",
       "      <th>...</th>\n",
       "      <th>AST Ratio</th>\n",
       "      <th>OREB%</th>\n",
       "      <th>DREB%</th>\n",
       "      <th>REB%</th>\n",
       "      <th>TOV%</th>\n",
       "      <th>eFG%</th>\n",
       "      <th>TS%</th>\n",
       "      <th>PACE</th>\n",
       "      <th>PIE</th>\n",
       "      <th>POSS</th>\n",
       "    </tr>\n",
       "  </thead>\n",
       "  <tbody>\n",
       "    <tr>\n",
       "      <th>0</th>\n",
       "      <td>1</td>\n",
       "      <td>Boston Celtics</td>\n",
       "      <td>49</td>\n",
       "      <td>37</td>\n",
       "      <td>12</td>\n",
       "      <td>2377.0</td>\n",
       "      <td>120.2</td>\n",
       "      <td>111.0</td>\n",
       "      <td>9.1</td>\n",
       "      <td>59.9</td>\n",
       "      <td>...</td>\n",
       "      <td>18.5</td>\n",
       "      <td>28.8</td>\n",
       "      <td>72.5</td>\n",
       "      <td>51.5</td>\n",
       "      <td>12.6</td>\n",
       "      <td>56.6</td>\n",
       "      <td>60.0</td>\n",
       "      <td>98.92</td>\n",
       "      <td>54.4</td>\n",
       "      <td>4896</td>\n",
       "    </tr>\n",
       "    <tr>\n",
       "      <th>1</th>\n",
       "      <td>2</td>\n",
       "      <td>Minnesota Timberwolves</td>\n",
       "      <td>48</td>\n",
       "      <td>34</td>\n",
       "      <td>14</td>\n",
       "      <td>2314.0</td>\n",
       "      <td>114.4</td>\n",
       "      <td>108.6</td>\n",
       "      <td>5.8</td>\n",
       "      <td>64.1</td>\n",
       "      <td>...</td>\n",
       "      <td>19.2</td>\n",
       "      <td>27.7</td>\n",
       "      <td>72.9</td>\n",
       "      <td>51.5</td>\n",
       "      <td>15.2</td>\n",
       "      <td>56.4</td>\n",
       "      <td>59.9</td>\n",
       "      <td>98.25</td>\n",
       "      <td>54.4</td>\n",
       "      <td>4744</td>\n",
       "    </tr>\n",
       "    <tr>\n",
       "      <th>2</th>\n",
       "      <td>3</td>\n",
       "      <td>Denver Nuggets</td>\n",
       "      <td>49</td>\n",
       "      <td>33</td>\n",
       "      <td>16</td>\n",
       "      <td>2352.0</td>\n",
       "      <td>117.8</td>\n",
       "      <td>113.5</td>\n",
       "      <td>4.3</td>\n",
       "      <td>65.5</td>\n",
       "      <td>...</td>\n",
       "      <td>20.4</td>\n",
       "      <td>30.3</td>\n",
       "      <td>72.0</td>\n",
       "      <td>51.5</td>\n",
       "      <td>12.8</td>\n",
       "      <td>55.8</td>\n",
       "      <td>58.6</td>\n",
       "      <td>97.50</td>\n",
       "      <td>52.5</td>\n",
       "      <td>4773</td>\n",
       "    </tr>\n",
       "    <tr>\n",
       "      <th>3</th>\n",
       "      <td>3</td>\n",
       "      <td>Oklahoma City Thunder</td>\n",
       "      <td>48</td>\n",
       "      <td>33</td>\n",
       "      <td>15</td>\n",
       "      <td>2314.0</td>\n",
       "      <td>119.0</td>\n",
       "      <td>111.2</td>\n",
       "      <td>7.8</td>\n",
       "      <td>60.6</td>\n",
       "      <td>...</td>\n",
       "      <td>19.3</td>\n",
       "      <td>24.8</td>\n",
       "      <td>68.0</td>\n",
       "      <td>47.7</td>\n",
       "      <td>12.4</td>\n",
       "      <td>57.3</td>\n",
       "      <td>61.0</td>\n",
       "      <td>100.83</td>\n",
       "      <td>54.1</td>\n",
       "      <td>4858</td>\n",
       "    </tr>\n",
       "    <tr>\n",
       "      <th>4</th>\n",
       "      <td>5</td>\n",
       "      <td>Milwaukee Bucks</td>\n",
       "      <td>48</td>\n",
       "      <td>32</td>\n",
       "      <td>16</td>\n",
       "      <td>2319.0</td>\n",
       "      <td>120.1</td>\n",
       "      <td>116.4</td>\n",
       "      <td>3.7</td>\n",
       "      <td>59.6</td>\n",
       "      <td>...</td>\n",
       "      <td>18.7</td>\n",
       "      <td>26.4</td>\n",
       "      <td>72.5</td>\n",
       "      <td>50.3</td>\n",
       "      <td>12.5</td>\n",
       "      <td>57.6</td>\n",
       "      <td>61.1</td>\n",
       "      <td>102.45</td>\n",
       "      <td>51.6</td>\n",
       "      <td>4952</td>\n",
       "    </tr>\n",
       "  </tbody>\n",
       "</table>\n",
       "<p>5 rows × 21 columns</p>\n",
       "</div>"
      ],
      "text/plain": [
       "   Unnamed: 0                    TEAM  GP   W   L     MIN  OffRtg  DefRtg  \\\n",
       "0           1          Boston Celtics  49  37  12  2377.0   120.2   111.0   \n",
       "1           2  Minnesota Timberwolves  48  34  14  2314.0   114.4   108.6   \n",
       "2           3          Denver Nuggets  49  33  16  2352.0   117.8   113.5   \n",
       "3           3   Oklahoma City Thunder  48  33  15  2314.0   119.0   111.2   \n",
       "4           5         Milwaukee Bucks  48  32  16  2319.0   120.1   116.4   \n",
       "\n",
       "   NetRtg  AST%  ...  AST Ratio  OREB%  DREB%  REB%  TOV%  eFG%   TS%    PACE  \\\n",
       "0     9.1  59.9  ...       18.5   28.8   72.5  51.5  12.6  56.6  60.0   98.92   \n",
       "1     5.8  64.1  ...       19.2   27.7   72.9  51.5  15.2  56.4  59.9   98.25   \n",
       "2     4.3  65.5  ...       20.4   30.3   72.0  51.5  12.8  55.8  58.6   97.50   \n",
       "3     7.8  60.6  ...       19.3   24.8   68.0  47.7  12.4  57.3  61.0  100.83   \n",
       "4     3.7  59.6  ...       18.7   26.4   72.5  50.3  12.5  57.6  61.1  102.45   \n",
       "\n",
       "    PIE  POSS  \n",
       "0  54.4  4896  \n",
       "1  54.4  4744  \n",
       "2  52.5  4773  \n",
       "3  54.1  4858  \n",
       "4  51.6  4952  \n",
       "\n",
       "[5 rows x 21 columns]"
      ]
     },
     "execution_count": 86,
     "metadata": {},
     "output_type": "execute_result"
    }
   ],
   "source": [
    "team_stats.head()"
   ]
  },
  {
   "cell_type": "code",
   "execution_count": 87,
   "metadata": {},
   "outputs": [],
   "source": [
    "#Convert to a csv file\n",
    "team_stats.to_csv(\"team_ratings.csv\")"
   ]
  }
 ],
 "metadata": {
  "kernelspec": {
   "display_name": "Python 3",
   "language": "python",
   "name": "python3"
  },
  "language_info": {
   "codemirror_mode": {
    "name": "ipython",
    "version": 3
   },
   "file_extension": ".py",
   "mimetype": "text/x-python",
   "name": "python",
   "nbconvert_exporter": "python",
   "pygments_lexer": "ipython3",
   "version": "3.12.1"
  }
 },
 "nbformat": 4,
 "nbformat_minor": 2
}
