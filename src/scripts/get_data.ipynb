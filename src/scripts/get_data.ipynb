{
 "cells": [
  {
   "cell_type": "code",
   "execution_count": 14,
   "metadata": {},
   "outputs": [],
   "source": [
    "#Initialize a list of all NBA teams\n",
    "nba_teams = [\n",
    "    'ATL',  # Atlanta Hawks\n",
    "    'BOS',  # Boston Celtics\n",
    "    'BKN',  # Brooklyn Nets\n",
    "    'CHA',  # Charlotte Hornets\n",
    "    'CHI',  # Chicago Bulls\n",
    "    'CLE',  # Cleveland Cavaliers\n",
    "    'DAL',  # Dallas Mavericks\n",
    "    'DEN',  # Denver Nuggets\n",
    "    'DET',  # Detroit Pistons\n",
    "    'GSW',  # Golden State Warriors\n",
    "    'HOU',  # Houston Rockets\n",
    "    'IND',  # Indiana Pacers\n",
    "    'LAC',  # LA Clippers\n",
    "    'LAL',  # Los Angeles Lakers\n",
    "    'MEM',  # Memphis Grizzlies\n",
    "    'MIA',  # Miami Heat\n",
    "    'MIL',  # Milwaukee Bucks\n",
    "    'MIN',  # Minnesota Timberwolves\n",
    "    'NOP',  # New Orleans Pelicans\n",
    "    'NYK',  # New York Knicks\n",
    "    'OKC',  # Oklahoma City Thunder\n",
    "    'ORL',  # Orlando Magic\n",
    "    'PHI',  # Philadelphia 76ers\n",
    "    'PHX',  # Phoenix Suns\n",
    "    'POR',  # Portland Trail Blazers\n",
    "    'SAC',  # Sacramento Kings\n",
    "    'SAS',  # San Antonio Spurs\n",
    "    'TOR',  # Toronto Raptors\n",
    "    'UTA',  # Utah Jazz\n",
    "    'WAS'   # Washington Wizards\n",
    "]"
   ]
  },
  {
   "cell_type": "code",
   "execution_count": 15,
   "metadata": {},
   "outputs": [],
   "source": [
    "#Define a url with a placeholder \n",
    "team_url = \"https://www.basketball-reference.com/teams/{}/2024.html\""
   ]
  },
  {
   "cell_type": "code",
   "execution_count": 16,
   "metadata": {},
   "outputs": [],
   "source": [
    "import requests\n",
    "\n",
    "#Iterate through teams and retrieve their data\n",
    "for team in nba_teams:\n",
    "    url = team_url.format(team)\n",
    "    data = requests.get(url)\n",
    "\n",
    "    #Save the data in the team_data folder as an html file\n",
    "    with open(\"team_data/{}.html\".format(team), \"w+\") as f:\n",
    "        f.write(data.text)"
   ]
  },
  {
   "cell_type": "code",
   "execution_count": 17,
   "metadata": {},
   "outputs": [],
   "source": [
    "from bs4 import BeautifulSoup"
   ]
  },
  {
   "cell_type": "code",
   "execution_count": 35,
   "metadata": {},
   "outputs": [],
   "source": [
    "team = \"TOR\"\n",
    "\n",
    "#Open and read html file from the file path\n",
    "with open(f\"team_data/{team}.html\") as f:\n",
    "    page = f.read()"
   ]
  },
  {
   "cell_type": "code",
   "execution_count": 19,
   "metadata": {},
   "outputs": [],
   "source": [
    "#Create a beautiful soup html parser object\n",
    "soup = BeautifulSoup(page, \"html.parser\")"
   ]
  },
  {
   "cell_type": "code",
   "execution_count": 48,
   "metadata": {},
   "outputs": [],
   "source": [
    "# Find the table with id \"roster\"\n",
    "roster_table = soup.find('table', {'id': 'roster'})"
   ]
  },
  {
   "cell_type": "code",
   "execution_count": 49,
   "metadata": {},
   "outputs": [],
   "source": [
    "# Find all elements with the data-stat=\"player\" attribute\n",
    "roster = roster_table.find_all('td', {'data-stat': 'player'})"
   ]
  },
  {
   "cell_type": "code",
   "execution_count": 38,
   "metadata": {},
   "outputs": [],
   "source": [
    "import os "
   ]
  },
  {
   "cell_type": "code",
   "execution_count": 50,
   "metadata": {},
   "outputs": [],
   "source": [
    "def create_folder(folder_name):\n",
    "    try:\n",
    "\n",
    "        # Check if the folder already exists\n",
    "        if not os.path.exists(folder_name):\n",
    "            \n",
    "            # Create the folder\n",
    "            os.makedirs(folder_name)\n",
    "            \n",
    "    except Exception as e:\n",
    "        print(f\"Error: {e}\")"
   ]
  },
  {
   "cell_type": "code",
   "execution_count": 51,
   "metadata": {},
   "outputs": [],
   "source": [
    "for player in roster:\n",
    "    # Find the <a> tag within the <td> element\n",
    "    link = player.find('a')\n",
    "    \n",
    "    # Check if an <a> tag is found\n",
    "    if link:\n",
    "        # Get the href attribute value\n",
    "        url = link['href']\n",
    "        \n",
    "        # Load the content of the player's page using requests\n",
    "        response = requests.get(f\"https://www.basketball-reference.com/{url}\") \n",
    "\n",
    "        #Create a new folder to holder team data if it does not already exist\n",
    "        folder_name = f\"{team}_player_data\"\n",
    "        create_folder(folder_name)\n",
    "\n",
    "        # Get the text content (name of the player)\n",
    "        player_name = link.text.strip()\n",
    "\n",
    "        #Save the data in the team_data folder as an html file\n",
    "        with open(folder_name + \"/{}.html\".format(player_name), \"w+\") as f:\n",
    "            f.write(data.text)"
   ]
  },
  {
   "cell_type": "code",
   "execution_count": 52,
   "metadata": {},
   "outputs": [],
   "source": [
    "import pandas as pd"
   ]
  }
 ],
 "metadata": {
  "kernelspec": {
   "display_name": "Python 3",
   "language": "python",
   "name": "python3"
  },
  "language_info": {
   "codemirror_mode": {
    "name": "ipython",
    "version": 3
   },
   "file_extension": ".py",
   "mimetype": "text/x-python",
   "name": "python",
   "nbconvert_exporter": "python",
   "pygments_lexer": "ipython3",
   "version": "3.12.1"
  }
 },
 "nbformat": 4,
 "nbformat_minor": 2
}
